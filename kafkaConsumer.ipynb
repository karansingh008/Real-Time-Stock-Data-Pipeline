{
  "cells": [
    {
      "cell_type": "code",
      "execution_count": null,
      "metadata": {
        "id": "ECfC9-8fkoI9"
      },
      "outputs": [],
      "source": [
        "!pip install kafka-python s3fs boto3"
      ]
    },
    {
      "cell_type": "code",
      "execution_count": null,
      "metadata": {
        "id": "b0kxtetHpAXU"
      },
      "outputs": [],
      "source": [
        "import os\n",
        "import json\n",
        "from kafka import KafkaConsumer\n",
        "from json import loads, dumps\n",
        "from s3fs import S3FileSystem\n",
        "import boto3"
      ]
    },
    {
      "cell_type": "code",
      "execution_count": null,
      "metadata": {
        "id": "LUTFwAGLlcTw"
      },
      "outputs": [],
      "source": [
        "os.environ[\"AWS_ACCESS_KEY_ID\"] = \"Key\"\n",
        "os.environ[\"AWS_SECRET_ACCESS_KEY\"] = \"Key\"\n",
        "os.environ[\"AWS_DEFAULT_REGION\"] = \"Key\""
      ]
    },
    {
      "cell_type": "code",
      "execution_count": null,
      "metadata": {
        "id": "D5oPL8AqqReg"
      },
      "outputs": [],
      "source": [
        "s3 = S3FileSystem(\n",
        "    key=os.environ[\"AWS_ACCESS_KEY_ID\"],\n",
        "    secret=os.environ[\"AWS_SECRET_ACCESS_KEY\"],\n",
        "    client_kwargs={'region_name': os.environ[\"AWS_DEFAULT_REGION\"]}\n",
        ")"
      ]
    },
    {
      "cell_type": "code",
      "execution_count": null,
      "metadata": {
        "id": "Y05R0Y77Jt3k"
      },
      "outputs": [],
      "source": [
        "consumer = KafkaConsumer(\n",
        "    'demo_test',\n",
        "    bootstrap_servers=['13.233.157.88:9092'],\n",
        "    value_deserializer=lambda x: loads(x.decode('utf-8'))\n",
        ")"
      ]
    },
    {
      "cell_type": "code",
      "execution_count": null,
      "metadata": {
        "colab": {
          "background_save": true
        },
        "id": "wOyVAhBRi4dC"
      },
      "outputs": [],
      "source": [
        "for count, message in enumerate(consumer):\n",
        "    try:\n",
        "        s3_path = f\"s3://karan-stock-bucket/stock_market_{count}.json\"\n",
        "        with s3.open(s3_path, 'w') as file:\n",
        "            json.dump(message.value, file)\n",
        "        print(f\"Successfully wrote {s3_path}\")\n",
        "    except Exception as e:\n",
        "        print(f\"Error writing to S3: {str(e)}\")"
      ]
    },
    {
      "cell_type": "code",
      "execution_count": null,
      "metadata": {
        "id": "HLn8mHZasyI8"
      },
      "outputs": [],
      "source": [
        "for message in consumer:\n",
        "    try:\n",
        "        data = json.loads(message.value)\n",
        "        df_received = pd.DataFrame(data)\n",
        "        print(df_received)\n",
        "    except json.JSONDecodeError as e:\n",
        "        print(f\"JSON Decode Error: {e}\")\n",
        "    except Exception as e:\n",
        "        print(f\"Error: {e}\")\n",
        "    break"
      ]
    }
  ],
  "metadata": {
    "colab": {
      "provenance": []
    },
    "kernelspec": {
      "display_name": "Python 3",
      "name": "python3"
    },
    "language_info": {
      "name": "python"
    }
  },
  "nbformat": 4,
  "nbformat_minor": 0
}
