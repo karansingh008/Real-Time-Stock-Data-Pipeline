{
  "cells": [
    {
      "cell_type": "code",
      "execution_count": null,
      "metadata": {
        "id": "Ykjl7PrIoe-X"
      },
      "outputs": [],
      "source": [
        "!pip install kafka-python\n",
        "!pip install requests\n",
        "!pip install pandas\n"
      ]
    },
    {
      "cell_type": "code",
      "execution_count": null,
      "metadata": {
        "id": "OZjad_f_pZ2s"
      },
      "outputs": [],
      "source": [
        "\n",
        "import pandas as pd\n",
        "import requests\n",
        "import json\n",
        "import time\n",
        "from time import sleep\n",
        "from json import dumps\n",
        "from kafka import KafkaProducer\n",
        "import requests\n"
      ]
    },
    {
      "cell_type": "code",
      "execution_count": null,
      "metadata": {
        "id": "ozvN0fvrqPLH"
      },
      "outputs": [],
      "source": [
        "producer = KafkaProducer(bootstrap_servers=['13.233.157.88:9092'],\n",
        "                         value_serializer=lambda x:\n",
        "                         dumps(x).encode('utf-8'))\n"
      ]
    },
    {
      "cell_type": "code",
      "execution_count": null,
      "metadata": {
        "id": "9b6Bar6yJxwB"
      },
      "outputs": [],
      "source": [
        "API_KEY = '72c2c635cd9742258ff7ffef4b2072d7'\n",
        "symbol = \"AAPL\""
      ]
    },
    {
      "cell_type": "code",
      "execution_count": null,
      "metadata": {
        "id": "MLimRI7fJ7m-"
      },
      "outputs": [],
      "source": []
    },
    {
      "cell_type": "code",
      "execution_count": null,
      "metadata": {
        "id": "JB0gthRlNBaC"
      },
      "outputs": [],
      "source": [
        "duration_seconds = 200\n",
        "start_time = time.time()"
      ]
    },
    {
      "cell_type": "code",
      "execution_count": null,
      "metadata": {
        "colab": {
          "background_save": true
        },
        "id": "QC8oH0P_KDKj"
      },
      "outputs": [],
      "source": [
        "while True:\n",
        "    current_time = time.time()\n",
        "    if (current_time - start_time) > duration_seconds:\n",
        "        print(f\"\\nReached {duration_seconds} seconds, stopping data fetch.\")\n",
        "        break\n",
        "\n",
        "    try:\n",
        "        url = f'https://api.twelvedata.com/price?symbol={symbol}&apikey={API_KEY}'\n",
        "        response = requests.get(url)\n",
        "\n",
        "        if response.status_code == 200:\n",
        "            data = response.json()\n",
        "\n",
        "            if \"price\" in data:\n",
        "                message = {\n",
        "                    \"stock\": symbol,\n",
        "                    \"timestamp\": time.strftime('%Y-%m-%d %H:%M:%S'),\n",
        "                    \"data\": {\n",
        "                        \"price\": data[\"price\"]\n",
        "                    }\n",
        "                }\n",
        "\n",
        "                # Send to Kafka\n",
        "                producer.send('demo_test', value=message)\n",
        "                producer.flush()\n",
        "                print(f\"Sent data for {symbol}: {message['data']}\")\n",
        "            else:\n",
        "                print(\"Unexpected response format:\", data)\n",
        "        else:\n",
        "            print(\"Failed to fetch data. HTTP Code:\", response.status_code)\n",
        "\n",
        "    except Exception as e:\n",
        "        print(\"Error during fetch/send:\", e)\n",
        "\n",
        "    #\n",
        "    time.sleep(15)\n",
        "\n",
        "print(\"Done sending real-time data.\")"
      ]
    }
  ],
  "metadata": {
    "colab": {
      "provenance": []
    },
    "kernelspec": {
      "display_name": "Python 3",
      "name": "python3"
    },
    "language_info": {
      "name": "python"
    }
  },
  "nbformat": 4,
  "nbformat_minor": 0
}